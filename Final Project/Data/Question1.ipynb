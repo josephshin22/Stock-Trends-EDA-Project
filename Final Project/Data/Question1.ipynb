{
 "cells": [
  {
   "cell_type": "markdown",
   "metadata": {},
   "source": [
    "Question 1: What is the correlation between Google Search Trends (Could also include Bing Keyword Research Tool) and Volume for stocks?\n",
    "- Step 1: Select 3 stocks (AAPL, NVDA, TSLA)\n",
    "- Step 2: Get Google Search Trends data"
   ]
  },
  {
   "cell_type": "code",
   "execution_count": null,
   "metadata": {
    "vscode": {
     "languageId": "plaintext"
    }
   },
   "outputs": [],
   "source": []
  }
 ],
 "metadata": {
  "language_info": {
   "name": "python"
  }
 },
 "nbformat": 4,
 "nbformat_minor": 2
}
