{
 "cells": [
  {
   "cell_type": "markdown",
   "metadata": {},
   "source": [
    "QUESTION 4-- How does general market sentiment on wsb correspond to the S&P 500"
   ]
  },
  {
   "cell_type": "code",
   "execution_count": null,
   "metadata": {},
   "outputs": [],
   "source": [
    "import pandas as pd\n",
    "import plotly.express as px \n",
    "from scipy.stats import pearsonr, chi2_contingency\n",
    "from vaderSentiment.vaderSentiment import SentimentIntensityAnalyzer\n",
    "from datetime import datetime, date"
   ]
  },
  {
   "cell_type": "code",
   "execution_count": null,
   "metadata": {},
   "outputs": [],
   "source": [
    "wsb = pd.read_csv('wsbData.csv')\n",
    "wsb['date'] = pd.to_datetime(wsb['date']).dt.date\n",
    "\n",
    " \n",
    "def wordsDay(df):\n",
    "        words = \"\"\n",
    "        for word in df['title']:\n",
    "                words  = words + \" \" + word\n",
    "        for word in df['content']:\n",
    "                words  = words + \" \" + str(word)\n",
    "        return words"
   ]
  },
  {
   "cell_type": "code",
   "execution_count": null,
   "metadata": {},
   "outputs": [],
   "source": [
    "#  returns the positive sentiment intensity for a sentence\n",
    "def pos_score(sentence: str):\n",
    "    sentence_analyzer = SentimentIntensityAnalyzer()\n",
    "    temp_sentence = sentence\n",
    "    sentiment_result = sentence_analyzer.polarity_scores(temp_sentence)\n",
    "    return (sentiment_result['pos'])\n",
    "\n",
    "# returns the negative sentiment intensity for a sentence\n",
    "def neg_score(sentence: str):\n",
    "    sentence_analyzer = SentimentIntensityAnalyzer()\n",
    "    temp_sentence = sentence\n",
    "    sentiment_result = sentence_analyzer.polarity_scores(temp_sentence)\n",
    "    return (sentiment_result['neg'])\n",
    "\n",
    "# returns the neutral sentiment intensity for a sentence\n",
    "def neu_score(sentence: str):\n",
    "    sentence_analyzer = SentimentIntensityAnalyzer()\n",
    "    temp_sentence = sentence\n",
    "    sentiment_result = sentence_analyzer.polarity_scores(temp_sentence)\n",
    "    return (sentiment_result['neu'])"
   ]
  },
  {
   "cell_type": "code",
   "execution_count": null,
   "metadata": {},
   "outputs": [],
   "source": [
    "# apply pos_score to each tweet\n",
    "dailyData = wsb.groupby('date').apply(wordsDay)\n",
    "df =pd.DataFrame({'date':dailyData.index, 'words':dailyData.values})\n",
    "\n",
    "df['pos_score'] = df['words'].apply(pos_score)\n",
    "df['neg_score'] = df['words'].apply(neg_score)\n",
    "df['neu_score'] = df['words'].apply(neu_score)\n",
    "print(df)\n"
   ]
  },
  {
   "cell_type": "code",
   "execution_count": null,
   "metadata": {},
   "outputs": [],
   "source": [
    "spy = pd.read_csv('SPY.csv')\n",
    "spy.rename(columns={'Date':'date'},inplace='True')\n",
    "spy['date'] = pd.to_datetime(spy['date']).dt.date\n",
    "data = pd.merge(df,spy, on='date',how='left')\n",
    "# print(data.columns)\n",
    "px.scatter(data,y='pos_score',x='Close').show()\n",
    "# data['Close'].dropna(inplace=True)\n",
    "data.dropna(subset=['Close'], inplace=True)\n",
    "\n",
    "# print(data)\n",
    "\n",
    "Pearson_correllation = pearsonr(data['pos_score'],data['High'])\n",
    "print(f'Correlation: {Pearson_correllation}')"
   ]
  },
  {
   "cell_type": "code",
   "execution_count": null,
   "metadata": {},
   "outputs": [],
   "source": []
  }
 ],
 "metadata": {
  "kernelspec": {
   "display_name": "Python 3",
   "language": "python",
   "name": "python3"
  },
  "language_info": {
   "codemirror_mode": {
    "name": "ipython",
    "version": 3
   },
   "file_extension": ".py",
   "mimetype": "text/x-python",
   "name": "python",
   "nbconvert_exporter": "python",
   "pygments_lexer": "ipython3",
   "version": "3.12.3"
  }
 },
 "nbformat": 4,
 "nbformat_minor": 2
}
