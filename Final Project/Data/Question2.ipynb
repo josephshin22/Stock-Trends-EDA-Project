{
 "cells": [
  {
   "cell_type": "markdown",
   "metadata": {},
   "source": [
    "Question 2: What is the correlation between the number of times a stock is discussed on the WSJ and its stock price? (could also do sentiment analysis)\n",
    "- Data from: https://www.kaggle.com/datasets/marta99/elon-musks-tweets-dataset-2022?resource=download\n",
    "- Dogecoin history from: https://www.kaggle.com/datasets/dhruvildave/dogecoin-historical-data/data"
   ]
  },
  {
   "cell_type": "code",
   "execution_count": 2,
   "metadata": {},
   "outputs": [],
   "source": [
    "import pandas as pd\n",
    "import plotly.express as px \n",
    "from scipy.stats import pearsonr, chi2_contingency\n",
    "from vaderSentiment.vaderSentiment import SentimentIntensityAnalyzer\n",
    "from datetime import datetime, date\n"
   ]
  },
  {
   "cell_type": "code",
   "execution_count": 3,
   "metadata": {},
   "outputs": [
    {
     "data": {
      "text/html": [
       "<div>\n",
       "<style scoped>\n",
       "    .dataframe tbody tr th:only-of-type {\n",
       "        vertical-align: middle;\n",
       "    }\n",
       "\n",
       "    .dataframe tbody tr th {\n",
       "        vertical-align: top;\n",
       "    }\n",
       "\n",
       "    .dataframe thead th {\n",
       "        text-align: right;\n",
       "    }\n",
       "</style>\n",
       "<table border=\"1\" class=\"dataframe\">\n",
       "  <thead>\n",
       "    <tr style=\"text-align: right;\">\n",
       "      <th></th>\n",
       "      <th>Tweets</th>\n",
       "      <th>Retweets</th>\n",
       "      <th>Likes</th>\n",
       "      <th>Date</th>\n",
       "      <th>Cleaned_Tweets</th>\n",
       "    </tr>\n",
       "  </thead>\n",
       "  <tbody>\n",
       "    <tr>\n",
       "      <th>0</th>\n",
       "      <td>@PeterSchiff 🤣 thanks</td>\n",
       "      <td>209</td>\n",
       "      <td>7021</td>\n",
       "      <td>2022-10-27 16:17:39</td>\n",
       "      <td>thanks</td>\n",
       "    </tr>\n",
       "    <tr>\n",
       "      <th>1</th>\n",
       "      <td>@ZubyMusic Absolutely</td>\n",
       "      <td>755</td>\n",
       "      <td>26737</td>\n",
       "      <td>2022-10-27 13:19:25</td>\n",
       "      <td>Absolutely</td>\n",
       "    </tr>\n",
       "    <tr>\n",
       "      <th>2</th>\n",
       "      <td>Dear Twitter Advertisers https://t.co/GMwHmInPAS</td>\n",
       "      <td>55927</td>\n",
       "      <td>356623</td>\n",
       "      <td>2022-10-27 13:08:00</td>\n",
       "      <td>Dear Twitter Advertisers</td>\n",
       "    </tr>\n",
       "    <tr>\n",
       "      <th>3</th>\n",
       "      <td>Meeting a lot of cool people at Twitter today!</td>\n",
       "      <td>9366</td>\n",
       "      <td>195546</td>\n",
       "      <td>2022-10-26 21:39:32</td>\n",
       "      <td>Meeting a lot of cool people at Twitter today!</td>\n",
       "    </tr>\n",
       "    <tr>\n",
       "      <th>4</th>\n",
       "      <td>Entering Twitter HQ – let that sink in! https:...</td>\n",
       "      <td>145520</td>\n",
       "      <td>1043592</td>\n",
       "      <td>2022-10-26 18:45:58</td>\n",
       "      <td>Entering Twitter HQ – let that sink in!</td>\n",
       "    </tr>\n",
       "    <tr>\n",
       "      <th>...</th>\n",
       "      <td>...</td>\n",
       "      <td>...</td>\n",
       "      <td>...</td>\n",
       "      <td>...</td>\n",
       "      <td>...</td>\n",
       "    </tr>\n",
       "    <tr>\n",
       "      <th>2663</th>\n",
       "      <td>@LimitingThe @baglino Just that manganese is a...</td>\n",
       "      <td>171</td>\n",
       "      <td>3173</td>\n",
       "      <td>2022-01-27 22:01:06</td>\n",
       "      <td>Just that manganese is an alternative to iron ...</td>\n",
       "    </tr>\n",
       "    <tr>\n",
       "      <th>2664</th>\n",
       "      <td>@incentives101 @ICRicardoLara Exactly</td>\n",
       "      <td>145</td>\n",
       "      <td>4234</td>\n",
       "      <td>2022-01-27 21:23:20</td>\n",
       "      <td>Exactly</td>\n",
       "    </tr>\n",
       "    <tr>\n",
       "      <th>2665</th>\n",
       "      <td>@ICRicardoLara Your policies are directly resp...</td>\n",
       "      <td>421</td>\n",
       "      <td>6144</td>\n",
       "      <td>2022-01-27 21:13:57</td>\n",
       "      <td>Your policies are directly responsible for the...</td>\n",
       "    </tr>\n",
       "    <tr>\n",
       "      <th>2666</th>\n",
       "      <td>@ICRicardoLara You should be voted out of office</td>\n",
       "      <td>484</td>\n",
       "      <td>7029</td>\n",
       "      <td>2022-01-27 21:12:27</td>\n",
       "      <td>You should be voted out of office</td>\n",
       "    </tr>\n",
       "    <tr>\n",
       "      <th>2667</th>\n",
       "      <td>CB radios are free from govt/media control</td>\n",
       "      <td>11302</td>\n",
       "      <td>113429</td>\n",
       "      <td>2022-01-27 21:00:09</td>\n",
       "      <td>CB radios are free from govt/media control</td>\n",
       "    </tr>\n",
       "  </tbody>\n",
       "</table>\n",
       "<p>2668 rows × 5 columns</p>\n",
       "</div>"
      ],
      "text/plain": [
       "                                                 Tweets  Retweets    Likes  \\\n",
       "0                                 @PeterSchiff 🤣 thanks       209     7021   \n",
       "1                                 @ZubyMusic Absolutely       755    26737   \n",
       "2      Dear Twitter Advertisers https://t.co/GMwHmInPAS     55927   356623   \n",
       "3        Meeting a lot of cool people at Twitter today!      9366   195546   \n",
       "4     Entering Twitter HQ – let that sink in! https:...    145520  1043592   \n",
       "...                                                 ...       ...      ...   \n",
       "2663  @LimitingThe @baglino Just that manganese is a...       171     3173   \n",
       "2664              @incentives101 @ICRicardoLara Exactly       145     4234   \n",
       "2665  @ICRicardoLara Your policies are directly resp...       421     6144   \n",
       "2666   @ICRicardoLara You should be voted out of office       484     7029   \n",
       "2667         CB radios are free from govt/media control     11302   113429   \n",
       "\n",
       "                    Date                                     Cleaned_Tweets  \n",
       "0    2022-10-27 16:17:39                                             thanks  \n",
       "1    2022-10-27 13:19:25                                         Absolutely  \n",
       "2    2022-10-27 13:08:00                           Dear Twitter Advertisers  \n",
       "3    2022-10-26 21:39:32     Meeting a lot of cool people at Twitter today!  \n",
       "4    2022-10-26 18:45:58            Entering Twitter HQ – let that sink in!  \n",
       "...                  ...                                                ...  \n",
       "2663 2022-01-27 22:01:06  Just that manganese is an alternative to iron ...  \n",
       "2664 2022-01-27 21:23:20                                            Exactly  \n",
       "2665 2022-01-27 21:13:57  Your policies are directly responsible for the...  \n",
       "2666 2022-01-27 21:12:27                  You should be voted out of office  \n",
       "2667 2022-01-27 21:00:09         CB radios are free from govt/media control  \n",
       "\n",
       "[2668 rows x 5 columns]"
      ]
     },
     "execution_count": 3,
     "metadata": {},
     "output_type": "execute_result"
    }
   ],
   "source": [
    "# read twitter data for each day \n",
    "twitter_data = pd.read_csv('cleandata.csv')\n",
    "twitter_data['Date'] = pd.to_datetime(twitter_data['Date'])\n",
    "\n",
    "\n",
    "def filter_2022(df):\n",
    "    df = df[df['Date'].dt.year == 2022]\n",
    "    return df\n",
    "\n",
    "\n",
    "twitter_data.pipe(filter_2022)\n"
   ]
  },
  {
   "cell_type": "code",
   "execution_count": 4,
   "metadata": {},
   "outputs": [],
   "source": [
    "# returns the positive sentiment intensity for a sentence\n",
    "def pos_score(sentence: str):\n",
    "    sentence_analyzer = SentimentIntensityAnalyzer()\n",
    "    temp_sentence = sentence\n",
    "    sentiment_result = sentence_analyzer.polarity_scores(temp_sentence)\n",
    "    return (sentiment_result['pos'])\n",
    "\n",
    "# returns the negative sentiment intensity for a sentence\n",
    "def neg_score(sentence: str):\n",
    "    sentence_analyzer = SentimentIntensityAnalyzer()\n",
    "    temp_sentence = sentence\n",
    "    sentiment_result = sentence_analyzer.polarity_scores(temp_sentence)\n",
    "    return (sentiment_result['neg'])\n",
    "\n",
    "# returns the neutral sentiment intensity for a sentence\n",
    "def neu_score(sentence: str):\n",
    "    sentence_analyzer = SentimentIntensityAnalyzer()\n",
    "    temp_sentence = sentence\n",
    "    sentiment_result = sentence_analyzer.polarity_scores(temp_sentence)\n",
    "    return (sentiment_result['neu'])"
   ]
  },
  {
   "cell_type": "code",
   "execution_count": 5,
   "metadata": {},
   "outputs": [],
   "source": [
    "# apply pos_score to each tweet\n",
    "twitter_data['pos_score'] = twitter_data['Cleaned_Tweets'].apply(pos_score)\n",
    "twitter_data['neg_score'] = twitter_data['Cleaned_Tweets'].apply(neg_score)\n",
    "twitter_data['neu_score'] = twitter_data['Cleaned_Tweets'].apply(neu_score)"
   ]
  },
  {
   "cell_type": "code",
   "execution_count": 6,
   "metadata": {},
   "outputs": [
    {
     "name": "stdout",
     "output_type": "stream",
     "text": [
      "(52, 8)\n"
     ]
    }
   ],
   "source": [
    "twitter_data['Date'] = pd.to_datetime(twitter_data['Date']).dt.date\n",
    "\n",
    "# Filter for tweets mentioning dogecoin\n",
    "twitter_data = twitter_data[twitter_data['Tweets'].str.lower().str.contains('doge')]\n",
    "print(twitter_data.shape)"
   ]
  },
  {
   "cell_type": "code",
   "execution_count": 7,
   "metadata": {},
   "outputs": [
    {
     "name": "stdout",
     "output_type": "stream",
     "text": [
      "          Date  pos_score  neg_score  neu_score\n",
      "0   2022-02-21      0.577      0.000      0.423\n",
      "1   2022-03-02      0.000      0.000      1.000\n",
      "2   2022-03-07      0.516      0.000      0.484\n",
      "3   2022-03-14      0.153      0.000      0.847\n",
      "4   2022-04-10      0.000      0.167      0.833\n",
      "5   2022-04-26      0.224      0.000      0.776\n",
      "6   2022-04-28      0.326      0.000      0.674\n",
      "7   2022-05-03      0.917      0.000      2.083\n",
      "8   2022-05-17      0.390      0.000      0.610\n",
      "9   2022-05-25      0.000      0.000      1.000\n",
      "10  2022-05-26      1.000      0.000      1.000\n",
      "11  2022-05-27      0.000      0.000      1.000\n",
      "12  2022-05-31      1.283      0.000      1.717\n",
      "13  2022-06-16      0.000      0.000      1.000\n",
      "14  2022-06-19      0.420      0.000      0.580\n",
      "15  2022-07-06      0.492      0.000      0.508\n",
      "16  2022-07-07      0.287      0.000      0.713\n",
      "17  2022-07-12      0.585      0.000      0.415\n",
      "18  2022-07-13      0.000      0.000      1.000\n",
      "19  2022-07-15      0.179      0.000      1.821\n",
      "20  2022-07-21      0.000      0.000      1.000\n",
      "21  2022-07-24      1.000      0.000      1.000\n",
      "22  2022-07-31      1.000      0.000      0.000\n",
      "23  2022-08-01      0.000      0.000      2.000\n",
      "24  2022-08-04      0.000      0.000      2.000\n",
      "25  2022-08-06      0.000      0.000      1.000\n",
      "26  2022-08-11      0.000      0.000      1.000\n",
      "27  2022-08-12      0.000      0.423      0.577\n",
      "28  2022-08-28      0.306      0.000      0.694\n",
      "29  2022-09-04      0.144      0.000      0.856\n",
      "30  2022-09-09      0.000      0.000      1.000\n",
      "31  2022-09-11      1.000      0.000      0.000\n",
      "32  2022-09-12      0.000      0.000      2.000\n",
      "33  2022-09-13      0.000      0.211      0.789\n",
      "34  2022-09-17      0.000      0.000      1.000\n",
      "35  2022-10-03      0.000      0.000      2.000\n",
      "36  2022-10-06      0.403      0.000      0.597\n",
      "37  2022-10-07      0.000      0.144      0.856\n",
      "38  2022-10-11      0.000      0.253      0.747\n",
      "39  2022-10-17      0.000      0.000      1.000\n",
      "40  2022-10-19      0.244      0.000      0.756\n"
     ]
    }
   ],
   "source": [
    "# Groups twitter data by date and applies sum function to pos, neg, and neu scores\n",
    "grouped_data = twitter_data.groupby('Date').agg({'pos_score': 'sum', 'neg_score': 'sum', 'neu_score': 'sum'}).reset_index()\n",
    "\n",
    "print(grouped_data)"
   ]
  },
  {
   "cell_type": "code",
   "execution_count": 8,
   "metadata": {},
   "outputs": [
    {
     "data": {
      "application/vnd.plotly.v1+json": {
       "config": {
        "plotlyServerURL": "https://plot.ly"
       },
       "data": [
        {
         "alignmentgroup": "True",
         "hovertemplate": "variable=pos_score<br>Date=%{x}<br>value=%{y}<extra></extra>",
         "legendgroup": "pos_score",
         "marker": {
          "color": "#636efa",
          "pattern": {
           "shape": ""
          }
         },
         "name": "pos_score",
         "offsetgroup": "pos_score",
         "orientation": "v",
         "showlegend": true,
         "textposition": "auto",
         "type": "bar",
         "x": [
          "2022-02-21",
          "2022-03-02",
          "2022-03-07",
          "2022-03-14",
          "2022-04-10",
          "2022-04-26",
          "2022-04-28",
          "2022-05-03",
          "2022-05-17",
          "2022-05-25",
          "2022-05-26",
          "2022-05-27",
          "2022-05-31",
          "2022-06-16",
          "2022-06-19",
          "2022-07-06",
          "2022-07-07",
          "2022-07-12",
          "2022-07-13",
          "2022-07-15",
          "2022-07-21",
          "2022-07-24",
          "2022-07-31",
          "2022-08-01",
          "2022-08-04",
          "2022-08-06",
          "2022-08-11",
          "2022-08-12",
          "2022-08-28",
          "2022-09-04",
          "2022-09-09",
          "2022-09-11",
          "2022-09-12",
          "2022-09-13",
          "2022-09-17",
          "2022-10-03",
          "2022-10-06",
          "2022-10-07",
          "2022-10-11",
          "2022-10-17",
          "2022-10-19"
         ],
         "xaxis": "x",
         "y": [
          0.577,
          0,
          0.516,
          0.153,
          0,
          0.224,
          0.326,
          0.917,
          0.39,
          0,
          1,
          0,
          1.283,
          0,
          0.42,
          0.492,
          0.287,
          0.585,
          0,
          0.179,
          0,
          1,
          1,
          0,
          0,
          0,
          0,
          0,
          0.306,
          0.144,
          0,
          1,
          0,
          0,
          0,
          0,
          0.403,
          0,
          0,
          0,
          0.244
         ],
         "yaxis": "y"
        },
        {
         "alignmentgroup": "True",
         "hovertemplate": "variable=neg_score<br>Date=%{x}<br>value=%{y}<extra></extra>",
         "legendgroup": "neg_score",
         "marker": {
          "color": "#EF553B",
          "pattern": {
           "shape": ""
          }
         },
         "name": "neg_score",
         "offsetgroup": "neg_score",
         "orientation": "v",
         "showlegend": true,
         "textposition": "auto",
         "type": "bar",
         "x": [
          "2022-02-21",
          "2022-03-02",
          "2022-03-07",
          "2022-03-14",
          "2022-04-10",
          "2022-04-26",
          "2022-04-28",
          "2022-05-03",
          "2022-05-17",
          "2022-05-25",
          "2022-05-26",
          "2022-05-27",
          "2022-05-31",
          "2022-06-16",
          "2022-06-19",
          "2022-07-06",
          "2022-07-07",
          "2022-07-12",
          "2022-07-13",
          "2022-07-15",
          "2022-07-21",
          "2022-07-24",
          "2022-07-31",
          "2022-08-01",
          "2022-08-04",
          "2022-08-06",
          "2022-08-11",
          "2022-08-12",
          "2022-08-28",
          "2022-09-04",
          "2022-09-09",
          "2022-09-11",
          "2022-09-12",
          "2022-09-13",
          "2022-09-17",
          "2022-10-03",
          "2022-10-06",
          "2022-10-07",
          "2022-10-11",
          "2022-10-17",
          "2022-10-19"
         ],
         "xaxis": "x",
         "y": [
          0,
          0,
          0,
          0,
          0.167,
          0,
          0,
          0,
          0,
          0,
          0,
          0,
          0,
          0,
          0,
          0,
          0,
          0,
          0,
          0,
          0,
          0,
          0,
          0,
          0,
          0,
          0,
          0.423,
          0,
          0,
          0,
          0,
          0,
          0.211,
          0,
          0,
          0,
          0.144,
          0.253,
          0,
          0
         ],
         "yaxis": "y"
        },
        {
         "alignmentgroup": "True",
         "hovertemplate": "variable=neu_score<br>Date=%{x}<br>value=%{y}<extra></extra>",
         "legendgroup": "neu_score",
         "marker": {
          "color": "#00cc96",
          "pattern": {
           "shape": ""
          }
         },
         "name": "neu_score",
         "offsetgroup": "neu_score",
         "orientation": "v",
         "showlegend": true,
         "textposition": "auto",
         "type": "bar",
         "x": [
          "2022-02-21",
          "2022-03-02",
          "2022-03-07",
          "2022-03-14",
          "2022-04-10",
          "2022-04-26",
          "2022-04-28",
          "2022-05-03",
          "2022-05-17",
          "2022-05-25",
          "2022-05-26",
          "2022-05-27",
          "2022-05-31",
          "2022-06-16",
          "2022-06-19",
          "2022-07-06",
          "2022-07-07",
          "2022-07-12",
          "2022-07-13",
          "2022-07-15",
          "2022-07-21",
          "2022-07-24",
          "2022-07-31",
          "2022-08-01",
          "2022-08-04",
          "2022-08-06",
          "2022-08-11",
          "2022-08-12",
          "2022-08-28",
          "2022-09-04",
          "2022-09-09",
          "2022-09-11",
          "2022-09-12",
          "2022-09-13",
          "2022-09-17",
          "2022-10-03",
          "2022-10-06",
          "2022-10-07",
          "2022-10-11",
          "2022-10-17",
          "2022-10-19"
         ],
         "xaxis": "x",
         "y": [
          0.423,
          1,
          0.484,
          0.847,
          0.833,
          0.776,
          0.674,
          2.083,
          0.61,
          1,
          1,
          1,
          1.717,
          1,
          0.58,
          0.508,
          0.713,
          0.415,
          1,
          1.821,
          1,
          1,
          0,
          2,
          2,
          1,
          1,
          0.577,
          0.694,
          0.856,
          1,
          0,
          2,
          0.789,
          1,
          2,
          0.597,
          0.856,
          0.747,
          1,
          0.756
         ],
         "yaxis": "y"
        }
       ],
       "layout": {
        "barmode": "relative",
        "legend": {
         "title": {
          "text": "variable"
         },
         "tracegroupgap": 0
        },
        "margin": {
         "t": 60
        },
        "template": {
         "data": {
          "bar": [
           {
            "error_x": {
             "color": "#2a3f5f"
            },
            "error_y": {
             "color": "#2a3f5f"
            },
            "marker": {
             "line": {
              "color": "#E5ECF6",
              "width": 0.5
             },
             "pattern": {
              "fillmode": "overlay",
              "size": 10,
              "solidity": 0.2
             }
            },
            "type": "bar"
           }
          ],
          "barpolar": [
           {
            "marker": {
             "line": {
              "color": "#E5ECF6",
              "width": 0.5
             },
             "pattern": {
              "fillmode": "overlay",
              "size": 10,
              "solidity": 0.2
             }
            },
            "type": "barpolar"
           }
          ],
          "carpet": [
           {
            "aaxis": {
             "endlinecolor": "#2a3f5f",
             "gridcolor": "white",
             "linecolor": "white",
             "minorgridcolor": "white",
             "startlinecolor": "#2a3f5f"
            },
            "baxis": {
             "endlinecolor": "#2a3f5f",
             "gridcolor": "white",
             "linecolor": "white",
             "minorgridcolor": "white",
             "startlinecolor": "#2a3f5f"
            },
            "type": "carpet"
           }
          ],
          "choropleth": [
           {
            "colorbar": {
             "outlinewidth": 0,
             "ticks": ""
            },
            "type": "choropleth"
           }
          ],
          "contour": [
           {
            "colorbar": {
             "outlinewidth": 0,
             "ticks": ""
            },
            "colorscale": [
             [
              0,
              "#0d0887"
             ],
             [
              0.1111111111111111,
              "#46039f"
             ],
             [
              0.2222222222222222,
              "#7201a8"
             ],
             [
              0.3333333333333333,
              "#9c179e"
             ],
             [
              0.4444444444444444,
              "#bd3786"
             ],
             [
              0.5555555555555556,
              "#d8576b"
             ],
             [
              0.6666666666666666,
              "#ed7953"
             ],
             [
              0.7777777777777778,
              "#fb9f3a"
             ],
             [
              0.8888888888888888,
              "#fdca26"
             ],
             [
              1,
              "#f0f921"
             ]
            ],
            "type": "contour"
           }
          ],
          "contourcarpet": [
           {
            "colorbar": {
             "outlinewidth": 0,
             "ticks": ""
            },
            "type": "contourcarpet"
           }
          ],
          "heatmap": [
           {
            "colorbar": {
             "outlinewidth": 0,
             "ticks": ""
            },
            "colorscale": [
             [
              0,
              "#0d0887"
             ],
             [
              0.1111111111111111,
              "#46039f"
             ],
             [
              0.2222222222222222,
              "#7201a8"
             ],
             [
              0.3333333333333333,
              "#9c179e"
             ],
             [
              0.4444444444444444,
              "#bd3786"
             ],
             [
              0.5555555555555556,
              "#d8576b"
             ],
             [
              0.6666666666666666,
              "#ed7953"
             ],
             [
              0.7777777777777778,
              "#fb9f3a"
             ],
             [
              0.8888888888888888,
              "#fdca26"
             ],
             [
              1,
              "#f0f921"
             ]
            ],
            "type": "heatmap"
           }
          ],
          "heatmapgl": [
           {
            "colorbar": {
             "outlinewidth": 0,
             "ticks": ""
            },
            "colorscale": [
             [
              0,
              "#0d0887"
             ],
             [
              0.1111111111111111,
              "#46039f"
             ],
             [
              0.2222222222222222,
              "#7201a8"
             ],
             [
              0.3333333333333333,
              "#9c179e"
             ],
             [
              0.4444444444444444,
              "#bd3786"
             ],
             [
              0.5555555555555556,
              "#d8576b"
             ],
             [
              0.6666666666666666,
              "#ed7953"
             ],
             [
              0.7777777777777778,
              "#fb9f3a"
             ],
             [
              0.8888888888888888,
              "#fdca26"
             ],
             [
              1,
              "#f0f921"
             ]
            ],
            "type": "heatmapgl"
           }
          ],
          "histogram": [
           {
            "marker": {
             "pattern": {
              "fillmode": "overlay",
              "size": 10,
              "solidity": 0.2
             }
            },
            "type": "histogram"
           }
          ],
          "histogram2d": [
           {
            "colorbar": {
             "outlinewidth": 0,
             "ticks": ""
            },
            "colorscale": [
             [
              0,
              "#0d0887"
             ],
             [
              0.1111111111111111,
              "#46039f"
             ],
             [
              0.2222222222222222,
              "#7201a8"
             ],
             [
              0.3333333333333333,
              "#9c179e"
             ],
             [
              0.4444444444444444,
              "#bd3786"
             ],
             [
              0.5555555555555556,
              "#d8576b"
             ],
             [
              0.6666666666666666,
              "#ed7953"
             ],
             [
              0.7777777777777778,
              "#fb9f3a"
             ],
             [
              0.8888888888888888,
              "#fdca26"
             ],
             [
              1,
              "#f0f921"
             ]
            ],
            "type": "histogram2d"
           }
          ],
          "histogram2dcontour": [
           {
            "colorbar": {
             "outlinewidth": 0,
             "ticks": ""
            },
            "colorscale": [
             [
              0,
              "#0d0887"
             ],
             [
              0.1111111111111111,
              "#46039f"
             ],
             [
              0.2222222222222222,
              "#7201a8"
             ],
             [
              0.3333333333333333,
              "#9c179e"
             ],
             [
              0.4444444444444444,
              "#bd3786"
             ],
             [
              0.5555555555555556,
              "#d8576b"
             ],
             [
              0.6666666666666666,
              "#ed7953"
             ],
             [
              0.7777777777777778,
              "#fb9f3a"
             ],
             [
              0.8888888888888888,
              "#fdca26"
             ],
             [
              1,
              "#f0f921"
             ]
            ],
            "type": "histogram2dcontour"
           }
          ],
          "mesh3d": [
           {
            "colorbar": {
             "outlinewidth": 0,
             "ticks": ""
            },
            "type": "mesh3d"
           }
          ],
          "parcoords": [
           {
            "line": {
             "colorbar": {
              "outlinewidth": 0,
              "ticks": ""
             }
            },
            "type": "parcoords"
           }
          ],
          "pie": [
           {
            "automargin": true,
            "type": "pie"
           }
          ],
          "scatter": [
           {
            "fillpattern": {
             "fillmode": "overlay",
             "size": 10,
             "solidity": 0.2
            },
            "type": "scatter"
           }
          ],
          "scatter3d": [
           {
            "line": {
             "colorbar": {
              "outlinewidth": 0,
              "ticks": ""
             }
            },
            "marker": {
             "colorbar": {
              "outlinewidth": 0,
              "ticks": ""
             }
            },
            "type": "scatter3d"
           }
          ],
          "scattercarpet": [
           {
            "marker": {
             "colorbar": {
              "outlinewidth": 0,
              "ticks": ""
             }
            },
            "type": "scattercarpet"
           }
          ],
          "scattergeo": [
           {
            "marker": {
             "colorbar": {
              "outlinewidth": 0,
              "ticks": ""
             }
            },
            "type": "scattergeo"
           }
          ],
          "scattergl": [
           {
            "marker": {
             "colorbar": {
              "outlinewidth": 0,
              "ticks": ""
             }
            },
            "type": "scattergl"
           }
          ],
          "scattermapbox": [
           {
            "marker": {
             "colorbar": {
              "outlinewidth": 0,
              "ticks": ""
             }
            },
            "type": "scattermapbox"
           }
          ],
          "scatterpolar": [
           {
            "marker": {
             "colorbar": {
              "outlinewidth": 0,
              "ticks": ""
             }
            },
            "type": "scatterpolar"
           }
          ],
          "scatterpolargl": [
           {
            "marker": {
             "colorbar": {
              "outlinewidth": 0,
              "ticks": ""
             }
            },
            "type": "scatterpolargl"
           }
          ],
          "scatterternary": [
           {
            "marker": {
             "colorbar": {
              "outlinewidth": 0,
              "ticks": ""
             }
            },
            "type": "scatterternary"
           }
          ],
          "surface": [
           {
            "colorbar": {
             "outlinewidth": 0,
             "ticks": ""
            },
            "colorscale": [
             [
              0,
              "#0d0887"
             ],
             [
              0.1111111111111111,
              "#46039f"
             ],
             [
              0.2222222222222222,
              "#7201a8"
             ],
             [
              0.3333333333333333,
              "#9c179e"
             ],
             [
              0.4444444444444444,
              "#bd3786"
             ],
             [
              0.5555555555555556,
              "#d8576b"
             ],
             [
              0.6666666666666666,
              "#ed7953"
             ],
             [
              0.7777777777777778,
              "#fb9f3a"
             ],
             [
              0.8888888888888888,
              "#fdca26"
             ],
             [
              1,
              "#f0f921"
             ]
            ],
            "type": "surface"
           }
          ],
          "table": [
           {
            "cells": {
             "fill": {
              "color": "#EBF0F8"
             },
             "line": {
              "color": "white"
             }
            },
            "header": {
             "fill": {
              "color": "#C8D4E3"
             },
             "line": {
              "color": "white"
             }
            },
            "type": "table"
           }
          ]
         },
         "layout": {
          "annotationdefaults": {
           "arrowcolor": "#2a3f5f",
           "arrowhead": 0,
           "arrowwidth": 1
          },
          "autotypenumbers": "strict",
          "coloraxis": {
           "colorbar": {
            "outlinewidth": 0,
            "ticks": ""
           }
          },
          "colorscale": {
           "diverging": [
            [
             0,
             "#8e0152"
            ],
            [
             0.1,
             "#c51b7d"
            ],
            [
             0.2,
             "#de77ae"
            ],
            [
             0.3,
             "#f1b6da"
            ],
            [
             0.4,
             "#fde0ef"
            ],
            [
             0.5,
             "#f7f7f7"
            ],
            [
             0.6,
             "#e6f5d0"
            ],
            [
             0.7,
             "#b8e186"
            ],
            [
             0.8,
             "#7fbc41"
            ],
            [
             0.9,
             "#4d9221"
            ],
            [
             1,
             "#276419"
            ]
           ],
           "sequential": [
            [
             0,
             "#0d0887"
            ],
            [
             0.1111111111111111,
             "#46039f"
            ],
            [
             0.2222222222222222,
             "#7201a8"
            ],
            [
             0.3333333333333333,
             "#9c179e"
            ],
            [
             0.4444444444444444,
             "#bd3786"
            ],
            [
             0.5555555555555556,
             "#d8576b"
            ],
            [
             0.6666666666666666,
             "#ed7953"
            ],
            [
             0.7777777777777778,
             "#fb9f3a"
            ],
            [
             0.8888888888888888,
             "#fdca26"
            ],
            [
             1,
             "#f0f921"
            ]
           ],
           "sequentialminus": [
            [
             0,
             "#0d0887"
            ],
            [
             0.1111111111111111,
             "#46039f"
            ],
            [
             0.2222222222222222,
             "#7201a8"
            ],
            [
             0.3333333333333333,
             "#9c179e"
            ],
            [
             0.4444444444444444,
             "#bd3786"
            ],
            [
             0.5555555555555556,
             "#d8576b"
            ],
            [
             0.6666666666666666,
             "#ed7953"
            ],
            [
             0.7777777777777778,
             "#fb9f3a"
            ],
            [
             0.8888888888888888,
             "#fdca26"
            ],
            [
             1,
             "#f0f921"
            ]
           ]
          },
          "colorway": [
           "#636efa",
           "#EF553B",
           "#00cc96",
           "#ab63fa",
           "#FFA15A",
           "#19d3f3",
           "#FF6692",
           "#B6E880",
           "#FF97FF",
           "#FECB52"
          ],
          "font": {
           "color": "#2a3f5f"
          },
          "geo": {
           "bgcolor": "white",
           "lakecolor": "white",
           "landcolor": "#E5ECF6",
           "showlakes": true,
           "showland": true,
           "subunitcolor": "white"
          },
          "hoverlabel": {
           "align": "left"
          },
          "hovermode": "closest",
          "mapbox": {
           "style": "light"
          },
          "paper_bgcolor": "white",
          "plot_bgcolor": "#E5ECF6",
          "polar": {
           "angularaxis": {
            "gridcolor": "white",
            "linecolor": "white",
            "ticks": ""
           },
           "bgcolor": "#E5ECF6",
           "radialaxis": {
            "gridcolor": "white",
            "linecolor": "white",
            "ticks": ""
           }
          },
          "scene": {
           "xaxis": {
            "backgroundcolor": "#E5ECF6",
            "gridcolor": "white",
            "gridwidth": 2,
            "linecolor": "white",
            "showbackground": true,
            "ticks": "",
            "zerolinecolor": "white"
           },
           "yaxis": {
            "backgroundcolor": "#E5ECF6",
            "gridcolor": "white",
            "gridwidth": 2,
            "linecolor": "white",
            "showbackground": true,
            "ticks": "",
            "zerolinecolor": "white"
           },
           "zaxis": {
            "backgroundcolor": "#E5ECF6",
            "gridcolor": "white",
            "gridwidth": 2,
            "linecolor": "white",
            "showbackground": true,
            "ticks": "",
            "zerolinecolor": "white"
           }
          },
          "shapedefaults": {
           "line": {
            "color": "#2a3f5f"
           }
          },
          "ternary": {
           "aaxis": {
            "gridcolor": "white",
            "linecolor": "white",
            "ticks": ""
           },
           "baxis": {
            "gridcolor": "white",
            "linecolor": "white",
            "ticks": ""
           },
           "bgcolor": "#E5ECF6",
           "caxis": {
            "gridcolor": "white",
            "linecolor": "white",
            "ticks": ""
           }
          },
          "title": {
           "x": 0.05
          },
          "xaxis": {
           "automargin": true,
           "gridcolor": "white",
           "linecolor": "white",
           "ticks": "",
           "title": {
            "standoff": 15
           },
           "zerolinecolor": "white",
           "zerolinewidth": 2
          },
          "yaxis": {
           "automargin": true,
           "gridcolor": "white",
           "linecolor": "white",
           "ticks": "",
           "title": {
            "standoff": 15
           },
           "zerolinecolor": "white",
           "zerolinewidth": 2
          }
         }
        },
        "xaxis": {
         "anchor": "y",
         "domain": [
          0,
          1
         ],
         "title": {
          "text": "Date"
         }
        },
        "yaxis": {
         "anchor": "x",
         "domain": [
          0,
          1
         ],
         "title": {
          "text": "value"
         }
        }
       }
      }
     },
     "metadata": {},
     "output_type": "display_data"
    }
   ],
   "source": [
    "# Graph Twitter Data\n",
    "fig = px.bar(grouped_data, x='Date', y=['pos_score','neg_score','neu_score'])\n",
    "fig.show()"
   ]
  },
  {
   "cell_type": "code",
   "execution_count": 9,
   "metadata": {},
   "outputs": [
    {
     "name": "stdout",
     "output_type": "stream",
     "text": [
      "          Date  pos_score  neg_score  neu_score      Open      High       Low  \\\n",
      "0   2022-02-21      0.577      0.000      0.423  0.136838  0.141345  0.128246   \n",
      "1   2022-03-02      0.000      0.000      1.000  0.133964  0.136214  0.131232   \n",
      "2   2022-03-07      0.516      0.000      0.484  0.120769  0.122563  0.115015   \n",
      "3   2022-03-14      0.153      0.000      0.847  0.111607  0.118967  0.110817   \n",
      "4   2022-04-10      0.000      0.167      0.833  0.144304  0.156972  0.143863   \n",
      "5   2022-04-26      0.224      0.000      0.776  0.157777  0.165278  0.137424   \n",
      "6   2022-04-28      0.326      0.000      0.674  0.139691  0.142618  0.136058   \n",
      "7   2022-05-03      0.917      0.000      2.083  0.130935  0.131833  0.127399   \n",
      "8   2022-05-17      0.390      0.000      0.610  0.087836  0.091112  0.087484   \n",
      "9   2022-05-25      0.000      0.000      1.000  0.083628  0.084338  0.082319   \n",
      "10  2022-05-26      1.000      0.000      1.000  0.082994  0.083600  0.076065   \n",
      "11  2022-05-27      0.000      0.000      1.000  0.078211  0.085384  0.076582   \n",
      "12  2022-05-31      1.283      0.000      1.717  0.087865  0.088230  0.083612   \n",
      "13  2022-06-16      0.000      0.000      1.000  0.062977  0.062977  0.054508   \n",
      "14  2022-06-19      0.420      0.000      0.580  0.053007  0.062472  0.051308   \n",
      "15  2022-07-06      0.492      0.000      0.508  0.067172  0.069058  0.066448   \n",
      "16  2022-07-07      0.287      0.000      0.713  0.068579  0.071124  0.068053   \n",
      "17  2022-07-12      0.585      0.000      0.415  0.061851  0.062861  0.060087   \n",
      "18  2022-07-13      0.000      0.000      1.000  0.060085  0.062011  0.058398   \n",
      "19  2022-07-15      0.179      0.000      1.821  0.062400  0.064259  0.061747   \n",
      "20  2022-07-21      0.000      0.000      1.000  0.070124  0.070732  0.067237   \n",
      "21  2022-07-24      1.000      0.000      1.000  0.068116  0.068854  0.067589   \n",
      "22  2022-07-31      1.000      0.000      0.000  0.069642  0.072028  0.068054   \n",
      "23  2022-08-01      0.000      0.000      2.000  0.068266  0.070721  0.067187   \n",
      "24  2022-08-04      0.000      0.000      2.000  0.066197  0.067502  0.066007   \n",
      "25  2022-08-06      0.000      0.000      1.000  0.069766  0.070999  0.068586   \n",
      "26  2022-08-11      0.000      0.000      1.000  0.071205  0.074646  0.070727   \n",
      "27  2022-08-12      0.000      0.423      0.577  0.070931  0.072480  0.070027   \n",
      "28  2022-08-28      0.306      0.000      0.694  0.063558  0.064268  0.061786   \n",
      "29  2022-09-04      0.144      0.000      0.856  0.062697  0.063714  0.062066   \n",
      "30  2022-09-09      0.000      0.000      1.000  0.060974  0.064622  0.060934   \n",
      "31  2022-09-11      1.000      0.000      0.000  0.064771  0.065187  0.063010   \n",
      "32  2022-09-12      0.000      0.000      2.000  0.063715  0.065194  0.062878   \n",
      "33  2022-09-13      0.000      0.211      0.789  0.063903  0.063981  0.059524   \n",
      "34  2022-09-17      0.000      0.000      1.000  0.060430  0.062315  0.060330   \n",
      "35  2022-10-03      0.000      0.000      2.000  0.059287  0.060467  0.059078   \n",
      "36  2022-10-06      0.403      0.000      0.597  0.064740  0.066618  0.063223   \n",
      "37  2022-10-07      0.000      0.144      0.856  0.063449  0.063717  0.061570   \n",
      "38  2022-10-11      0.000      0.253      0.747  0.059508  0.060653  0.057887   \n",
      "39  2022-10-17      0.000      0.000      1.000  0.058913  0.060057  0.058625   \n",
      "40  2022-10-19      0.244      0.000      0.756  0.059779  0.060680  0.058628   \n",
      "\n",
      "       Close  Adj Close        Volume  \n",
      "0   0.128490   0.128490  9.137731e+08  \n",
      "1   0.132990   0.132990  7.095363e+08  \n",
      "2   0.117105   0.117105  5.130148e+08  \n",
      "3   0.114048   0.114048  8.220922e+08  \n",
      "4   0.149535   0.149535  1.931830e+09  \n",
      "5   0.137767   0.137767  4.529011e+09  \n",
      "6   0.137363   0.137363  1.105138e+09  \n",
      "7   0.129520   0.129520  5.557065e+08  \n",
      "8   0.090213   0.090213  5.608002e+08  \n",
      "9   0.082985   0.082985  4.198348e+08  \n",
      "10  0.078252   0.078252  7.118909e+08  \n",
      "11  0.081335   0.081335  1.310058e+09  \n",
      "12  0.085865   0.085865  6.724446e+08  \n",
      "13  0.055029   0.055029  7.244797e+08  \n",
      "14  0.060396   0.060396  1.166164e+09  \n",
      "15  0.068583   0.068583  3.989265e+08  \n",
      "16  0.070621   0.070621  4.025917e+08  \n",
      "17  0.060087   0.060087  2.984621e+08  \n",
      "18  0.061953   0.061953  4.465054e+08  \n",
      "19  0.063042   0.063042  3.743578e+08  \n",
      "20  0.069960   0.069960  4.924342e+08  \n",
      "21  0.067724   0.067724  3.691415e+08  \n",
      "22  0.068272   0.068272  5.211940e+08  \n",
      "23  0.068725   0.068725  4.440882e+08  \n",
      "24  0.067357   0.067357  2.564578e+08  \n",
      "25  0.068674   0.068674  2.779791e+08  \n",
      "26  0.070930   0.070930  5.639086e+08  \n",
      "27  0.072345   0.072345  3.204104e+08  \n",
      "28  0.061786   0.061786  2.950861e+08  \n",
      "29  0.063226   0.063226  2.500444e+08  \n",
      "30  0.064018   0.064018  4.879887e+08  \n",
      "31  0.063714   0.063714  3.277420e+08  \n",
      "32  0.063905   0.063905  3.836307e+08  \n",
      "33  0.060129   0.060129  4.616450e+08  \n",
      "34  0.062210   0.062210  2.096041e+08  \n",
      "35  0.060384   0.060384  1.957665e+08  \n",
      "36  0.063444   0.063444  3.879627e+08  \n",
      "37  0.062409   0.062409  2.997174e+08  \n",
      "38  0.060258   0.060258  2.959677e+08  \n",
      "39  0.059935   0.059935  1.742614e+08  \n",
      "40  0.058713   0.058713  2.872972e+08  \n"
     ]
    }
   ],
   "source": [
    "# Get Dogecoin historical price data \n",
    "dogecoin_data = pd.read_csv('DOGE-USD.csv')\n",
    "dogecoin_data['Date'] = pd.to_datetime(dogecoin_data['Date']).dt.date\n",
    "\n",
    "\n",
    "# merge dogecoin data onto musk tweet data\n",
    "merged_data = grouped_data.merge(dogecoin_data, on='Date')\n",
    "print(merged_data)"
   ]
  },
  {
   "cell_type": "code",
   "execution_count": 1,
   "metadata": {},
   "outputs": [
    {
     "ename": "NameError",
     "evalue": "name 'merged_data' is not defined",
     "output_type": "error",
     "traceback": [
      "\u001b[1;31m---------------------------------------------------------------------------\u001b[0m",
      "\u001b[1;31mNameError\u001b[0m                                 Traceback (most recent call last)",
      "Cell \u001b[1;32mIn[1], line 2\u001b[0m\n\u001b[0;32m      1\u001b[0m \u001b[38;5;66;03m# Create column for Price Change\u001b[39;00m\n\u001b[1;32m----> 2\u001b[0m merged_data[\u001b[38;5;124m'\u001b[39m\u001b[38;5;124mPrice Change\u001b[39m\u001b[38;5;124m'\u001b[39m] \u001b[38;5;241m=\u001b[39m \u001b[43mmerged_data\u001b[49m[\u001b[38;5;124m'\u001b[39m\u001b[38;5;124mOpen\u001b[39m\u001b[38;5;124m'\u001b[39m] \u001b[38;5;241m-\u001b[39m merged_data[\u001b[38;5;124m'\u001b[39m\u001b[38;5;124mClose\u001b[39m\u001b[38;5;124m'\u001b[39m]\n\u001b[0;32m      4\u001b[0m \u001b[38;5;66;03m# Plot dogecoin data and the positive sentiment of Musk's tweets \u001b[39;00m\n\u001b[0;32m      5\u001b[0m fig2 \u001b[38;5;241m=\u001b[39m px\u001b[38;5;241m.\u001b[39mscatter(merged_data, x\u001b[38;5;241m=\u001b[39m\u001b[38;5;124m'\u001b[39m\u001b[38;5;124mpos_score\u001b[39m\u001b[38;5;124m'\u001b[39m, y\u001b[38;5;241m=\u001b[39m\u001b[38;5;124m'\u001b[39m\u001b[38;5;124mPrice Change\u001b[39m\u001b[38;5;124m'\u001b[39m, title\u001b[38;5;241m=\u001b[39m\u001b[38;5;124m'\u001b[39m\u001b[38;5;124mPositivity of Elon Musk Tweets vs. Dogecoin Closing Price\u001b[39m\u001b[38;5;124m'\u001b[39m, color\u001b[38;5;241m=\u001b[39m\u001b[38;5;124m'\u001b[39m\u001b[38;5;124mCleaned_Tweets\u001b[39m\u001b[38;5;124m'\u001b[39m)\n",
      "\u001b[1;31mNameError\u001b[0m: name 'merged_data' is not defined"
     ]
    }
   ],
   "source": [
    "# Create column for Price Change\n",
    "merged_data['Price Change'] = merged_data['Open'] - merged_data['Close']\n",
    "\n",
    "# Plot dogecoin data and the positive sentiment of Musk's tweets \n",
    "fig2 = px.scatter(merged_data, x='pos_score', y='Price Change', title='Positivity of Elon Musk Tweets vs. Dogecoin Closing Price', color='Cleaned_Tweets')\n",
    "fig2.show()\n",
    "\n",
    "# Pearson test \n",
    "correlation_coefficient, p_value = pearsonr(merged_data['pos_score'], merged_data['Volume'])\n",
    "print(\"Pearson correlation coefficient:\", correlation_coefficient)\n",
    "print(\"P-value:\", p_value)\n"
   ]
  }
 ],
 "metadata": {
  "kernelspec": {
   "display_name": "Python 3",
   "language": "python",
   "name": "python3"
  },
  "language_info": {
   "codemirror_mode": {
    "name": "ipython",
    "version": 3
   },
   "file_extension": ".py",
   "mimetype": "text/x-python",
   "name": "python",
   "nbconvert_exporter": "python",
   "pygments_lexer": "ipython3",
   "version": "3.12.3"
  }
 },
 "nbformat": 4,
 "nbformat_minor": 2
}
